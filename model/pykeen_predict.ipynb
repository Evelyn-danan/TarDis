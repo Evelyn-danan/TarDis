{
 "cells": [
  {
   "cell_type": "code",
   "execution_count": 1,
   "metadata": {},
   "outputs": [
    {
     "name": "stderr",
     "output_type": "stream",
     "text": [
      "/home/worker/software/anaconda3/envs/pykeen/lib/python3.9/site-packages/tqdm/auto.py:21: TqdmWarning: IProgress not found. Please update jupyter and ipywidgets. See https://ipywidgets.readthedocs.io/en/stable/user_install.html\n",
      "  from .autonotebook import tqdm as notebook_tqdm\n"
     ]
    },
    {
     "name": "stdout",
     "output_type": "stream",
     "text": [
      "Current time: 20250219-153853\n",
      " num_entity: 945552\n",
      " num_relation: 126\n",
      " num_support_triplets: 20930149\n",
      "Load data from ../data/dataset and 1 fold:\n",
      " num_train_triples: 1879648\n",
      " num_test_triples: 469912\n"
     ]
    },
    {
     "name": "stderr",
     "output_type": "stream",
     "text": [
      "using automatically assigned random_state=1826428817\n"
     ]
    },
    {
     "name": "stdout",
     "output_type": "stream",
     "text": [
      " num_emb_triplets: 22809797\n",
      " emb_train_triplets: 18247837, emb_test_triplets: 2280980, emb_valid_triplets: 2280980\n"
     ]
    }
   ],
   "source": [
    "import os\n",
    "import pandas as pd\n",
    "import numpy as np\n",
    "from datetime import datetime\n",
    "\n",
    "import torch\n",
    "from pykeen.triples import TriplesFactory\n",
    "from pykeen.pipeline import pipeline\n",
    "from pathlib import Path\n",
    "\n",
    "from utils import load_IDMapping, load_train_data, print_pykeen_metrics, calc_classi_metrics, save_embeddings\n",
    "\n",
    "source_dir = \"../data/dataset\"\n",
    "train_res = \"./tmp\"\n",
    "\n",
    "current_time = datetime.now().strftime('%Y%m%d-%H%M%S')\n",
    "print(f\"Current time: {current_time}\")\n",
    "\n",
    "columns = ['head', 'relation', 'tail']\n",
    "entity2id, relation2id = load_IDMapping(source_dir)\n",
    "support_triplet = pd.read_csv(source_dir + \"/support_triplet.tsv\", sep='\\t', names=columns)\n",
    "print(f\" num_support_triplets: {len(support_triplet)}\")\n",
    "\n",
    "train_data, test_data, train_data_id, test_data_id = load_train_data(source_dir, entity2id, relation2id, 0)\n",
    "train_data_pos = train_data[train_data['label'] == 1]\n",
    "train_data_pos = train_data_pos[columns]\n",
    "\n",
    "emb_graph = pd.concat([train_data_pos, support_triplet], ignore_index=True)\n",
    "\n",
    "# Create a TriplesFactory from the DataFrame\n",
    "emb_triplet = TriplesFactory.from_labeled_triples(emb_graph[columns].values, entity_to_id=entity2id, relation_to_id=relation2id, create_inverse_triples=True)\n",
    "emb_trainning, emb_testing, emb_validation = emb_triplet.split([0.8, 0.1, 0.1])\n",
    "print(f\" num_emb_triplets: {emb_triplet.num_triples}\")\n",
    "print(f\" emb_train_triplets: {emb_trainning.num_triples}, emb_test_triplets: {emb_testing.num_triples}, emb_valid_triplets: {emb_validation.num_triples}\")\n",
    "\n",
    "test_data_tf = TriplesFactory.from_labeled_triples(test_data[columns].values, entity_to_id=entity2id, relation_to_id=relation2id, create_inverse_triples=False)\n",
    "\n",
    "# Create a model"
   ]
  },
  {
   "cell_type": "code",
   "execution_count": 2,
   "metadata": {},
   "outputs": [
    {
     "name": "stderr",
     "output_type": "stream",
     "text": [
      "INFO:pykeen.triples.triples_factory:Creating inverse triples.\n",
      "Training epochs on cuda:1:   0%|          | 0/2 [00:00<?, ?epoch/s]INFO:pykeen.triples.triples_factory:Creating inverse triples.\n",
      "INFO:pykeen.training.training_loop:Dropping last (incomplete) batch each epoch (1/3649 (0.03%) batches).\n",
      "Training epochs on cuda:1: 100%|██████████| 2/2 [12:16<00:00, 368.18s/epoch, loss=0.0107, prev_loss=0.13]\n",
      "Evaluating on cuda:1: 100%|██████████| 2.28M/2.28M [3:12:32<00:00, 197triple/s]  \n",
      "INFO:pykeen.evaluation.evaluator:Evaluation took 11618.17s seconds\n"
     ]
    }
   ],
   "source": [
    "model = 'ConvE'\n",
    "proj_name = f\"{model}_{current_time}\"\n",
    "\n",
    "pipeline_result = pipeline(\n",
    "    random_seed=42,\n",
    "    model=model,\n",
    "    model_kwargs=dict(\n",
    "        embedding_dim=100,\n",
    "    ),\n",
    "\n",
    "    training=emb_trainning,\n",
    "    testing=emb_testing,\n",
    "    validation=emb_validation,\n",
    "\n",
    "    training_loop='sLCWA',\n",
    "    training_kwargs=dict(\n",
    "        num_epochs=2,\n",
    "        batch_size=10000,\n",
    "        use_tqdm_batch=False,\n",
    "        # checkpoint_name=f'{proj_name}_checkpoint.pt',\n",
    "        # checkpoint_directory='./tmp',\n",
    "        # checkpoint_frequency=3,\n",
    "        # checkpoint_on_failure=True,\n",
    "        # sampler=\"schlichtkrull\",\n",
    "    ),\n",
    "    \n",
    "    # optimizer='Adam',\n",
    "    # optimizer_kwargs=dict(\n",
    "    #     lr=0.001,\n",
    "    # ),\n",
    "\n",
    "    negative_sampler='bernoulli',\n",
    "    negative_sampler_kwargs=dict(\n",
    "        num_negs_per_pos=1,\n",
    "    ),\n",
    "\n",
    "    evaluator='RankBasedEvaluator',\n",
    "    evaluator_kwargs=dict(\n",
    "        filtered=True,\n",
    "    ),\n",
    "    \n",
    "    # stopper='early',\n",
    "    # stopper_kwargs=dict(\n",
    "    #     frequency=3,\n",
    "    #     patience=2,\n",
    "    #     relative_delta=0.005,\n",
    "    #     best_model_path=Path(f'./tmp/{proj_name}_best-model-weights.pt'),\n",
    "    # ),\n",
    "\n",
    "    device=torch.device(\"cuda:1\"),\n",
    "    # result_tracker='tensorboard',\n",
    "    # result_tracker_kwargs=dict(\n",
    "    #     experiment_path=f'tb_logs/{proj_name}',\n",
    "    # ),\n",
    ")\n",
    "# pipeline_result.save_to_directory(f'tmp/{proj_name}')\n",
    "my_pykeen_model = pipeline_result.model\n",
    "# print_pykeen_metrics(pipeline_result, test_data_tf, test_data, emb_trainning, emb_testing, emb_validation)\n",
    "\n",
    "# save_embeddings(my_pykeen_model, f'tmp/{proj_name}')"
   ]
  },
  {
   "cell_type": "code",
   "execution_count": 5,
   "metadata": {},
   "outputs": [
    {
     "name": "stderr",
     "output_type": "stream",
     "text": [
      "No random seed is specified. This may lead to non-reproducible results.\n"
     ]
    },
    {
     "data": {
      "text/plain": [
       "[{'lr': 0.001,\n",
       "  'betas': (0.9, 0.999),\n",
       "  'eps': 1e-08,\n",
       "  'weight_decay': 0,\n",
       "  'amsgrad': False,\n",
       "  'maximize': False,\n",
       "  'foreach': None,\n",
       "  'capturable': False,\n",
       "  'differentiable': False,\n",
       "  'fused': None,\n",
       "  'params': [0, 1]}]"
      ]
     },
     "execution_count": 5,
     "metadata": {},
     "output_type": "execute_result"
    }
   ],
   "source": [
    "import torch\n",
    "import numpy as np\n",
    "from pykeen.constants import PYKEEN_CHECKPOINTS\n",
    "from pykeen.pipeline import pipeline\n",
    "from pykeen.triples import TriplesFactory\n",
    "from pykeen.models import RESCAL\n",
    "from pykeen.models import ConvE\n",
    "from pykeen.models import TransE\n",
    "\n",
    "# my_model = ConvE(triples_factory=emb_trainning, embedding_dim=100)\n",
    "# checkpoint = torch.load(PYKEEN_CHECKPOINTS.joinpath(f\"/home/worker/users/ZC/KnowledgeGraph/TarKG_reason/pykeen_model/checkpoints/baseline/ConvE_20250114-094927_checkpoint.pt\"))\n",
    "# my_model = RESCAL(triples_factory=emb_trainning, embedding_dim=100)\n",
    "# checkpoint = torch.load(PYKEEN_CHECKPOINTS.joinpath(f\"/home/worker/users/ZC/KnowledgeGraph/TarKG_reason/pykeen_model/checkpoints/baseline/RESCAL_20250117-214900_checkpoint.pt\"))\n",
    "my_model = TransE(triples_factory=emb_trainning, embedding_dim=100)\n",
    "checkpoint = torch.load(PYKEEN_CHECKPOINTS.joinpath(f\"/home/worker/users/ZC/KnowledgeGraph/TarKG_reason/pykeen_model/checkpoints/baseline/TransE_20250109-215115_checkpoint.pt\"))\n",
    "my_model.load_state_dict(checkpoint['model_state_dict'])\n",
    "checkpoint['optimizer_state_dict']['param_groups']"
   ]
  },
  {
   "cell_type": "code",
   "execution_count": 2,
   "metadata": {},
   "outputs": [],
   "source": [
    "import torch\n",
    "\n",
    "device = torch.device(f\"cuda:{3}\" if torch.cuda.is_available() else \"cpu\")\n",
    "# my_model = torch.load(\"/home/worker/users/ZC/KnowledgeGraph/TarKG_reason/pykeen_model/train_results/baseline/CompGCN_20250109-215102/trained_model.pkl\", map_location='cpu')\n",
    "# my_model = torch.load(\"/home/worker/users/ZC/KnowledgeGraph/TarKG_reason/pykeen_model/train_results/baseline/TransE_20250109-215115/trained_model.pkl\", map_location='cpu')\n",
    "# my_model = torch.load(\"/home/worker/users/ZC/KnowledgeGraph/TarKG_reason/pykeen_model/train_results/baseline/TransR_20250109-215206/trained_model.pkl\", map_location='cpu')\n",
    "# my_model = torch.load(\"/home/worker/users/ZC/KnowledgeGraph/TarKG_reason/pykeen_model/train_results/baseline/RotatE_20250109-215430/trained_model.pkl\", map_location='cpu')\n",
    "# my_model = torch.load(\"/home/worker/users/ZC/KnowledgeGraph/TarKG_reason/pykeen_model/train_results/baseline/DistMult_20250111-102406/trained_model.pkl\", map_location='cpu')\n",
    "# my_model = torch.load(\"/home/worker/users/ZC/KnowledgeGraph/TarKG_reason/pykeen_model/train_results/baseline/ComplEx_20250111-102451/trained_model.pkl\", map_location='cpu')\n",
    "# my_model = torch.load(\"/home/worker/users/ZC/KnowledgeGraph/TarKG_reason/pykeen_model/train_results/baseline/RESCAL_20250117-214900/trained_model.pkl\", map_location='cpu')\n",
    "my_model = torch.load(\"/home/worker/users/ZC/KnowledgeGraph/TarKG_reason/pykeen_model/train_results/baseline/ConvE_20250124-172107/trained_model.pkl\", map_location='cuda:3')\n",
    "# my_model = my_model.to(device)"
   ]
  },
  {
   "cell_type": "code",
   "execution_count": 3,
   "metadata": {},
   "outputs": [],
   "source": [
    "from utils import load_gene_disease_ids\n",
    "from pykeen.evaluation import RankBasedEvaluator\n",
    "\n",
    "gd_ent = []\n",
    "gd_rel = []\n",
    "for key, value in entity2id.items():\n",
    "    if key.startswith(\"Disease\") or key.startswith(\"Gene\"):\n",
    "        gd_ent.append(value)\n",
    "for key, value in relation2id.items():\n",
    "    if key.startswith(\"Disease:Gene\") or key.startswith(\"Gene:Disease\"):\n",
    "        gd_rel.append(value)"
   ]
  },
  {
   "cell_type": "code",
   "execution_count": null,
   "metadata": {},
   "outputs": [
    {
     "name": "stderr",
     "output_type": "stream",
     "text": [
      "The filtered setting was enabled, but there were no `additional_filter_triples`\n",
      "given. This means you probably forgot to pass (at least) the training triples. Try:\n",
      "\n",
      "    additional_filter_triples=[dataset.training.mapped_triples]\n",
      "\n",
      "Or if you want to use the Bordes et al. (2013) approach to filtering, do:\n",
      "\n",
      "    additional_filter_triples=[\n",
      "        dataset.training.mapped_triples,\n",
      "        dataset.validation.mapped_triples,\n",
      "    ]\n",
      "\n",
      "Evaluating on cuda:1:   0%|          | 0.00/940k [00:00<?, ?triple/s]/home/worker/software/anaconda3/envs/pykeen/lib/python3.9/site-packages/pykeen/evaluation/evaluator.py:388: UserWarning: Encountered type(value)=<class 'list'> which cannot be hashed\n",
      "  return evaluate(\n",
      "Evaluating on cuda:1: 100%|██████████| 940k/940k [55:49<00:00, 281triple/s]  "
     ]
    },
    {
     "name": "stdout",
     "output_type": "stream",
     "text": [
      "Hits@1-subGD=0.0023\n",
      "Hits@3-subGD=0.0050\n",
      "Hits@10-subGD=0.0149\n",
      "MRR-subGD=0.0078\n",
      "MR-subGD=11912.1650\n",
      "\n"
     ]
    },
    {
     "name": "stderr",
     "output_type": "stream",
     "text": [
      "\n"
     ]
    }
   ],
   "source": [
    "evaluator = RankBasedEvaluator()\n",
    "test_results = evaluator.evaluate(\n",
    "    model=my_model,\n",
    "    mapped_triples=test_data_tf.mapped_triples,\n",
    "    restrict_entities_to=gd_ent,\n",
    "    restrict_relations_to=gd_rel,\n",
    "    # additional_filter_triples=[\n",
    "    #     emb_trainning.mapped_triples,\n",
    "    #     emb_validation.mapped_triples,\n",
    "    #     emb_testing.mapped_triples,\n",
    "    # ],\n",
    "    use_tqdm=True,\n",
    ")\n",
    "\n",
    "print(f\"Hits@1-subGD={test_results.get_metric('hits@1'):.4f}\")\n",
    "print(f\"Hits@3-subGD={test_results.get_metric('hits@3'):.4f}\")\n",
    "print(f\"Hits@10-subGD={test_results.get_metric('hits@10'):.4f}\")\n",
    "print(f\"MRR-subGD={test_results.get_metric('mean_reciprocal_rank'):.4f}\")\n",
    "print(f\"MR-subGD={test_results.get_metric('mean_rank'):.4f}\\n\")"
   ]
  },
  {
   "cell_type": "markdown",
   "metadata": {},
   "source": [
    "## 分类指标"
   ]
  },
  {
   "cell_type": "code",
   "execution_count": 3,
   "metadata": {},
   "outputs": [
    {
     "name": "stderr",
     "output_type": "stream",
     "text": [
      "Encountered tensors on device_types={'cpu'} while only ['cuda'] are considered safe for automatic memory utilization maximization. This may lead to undocumented crashes (but can be safe, too).\n"
     ]
    },
    {
     "data": {
      "text/plain": [
       "ScorePack(result=tensor([[     0,      0,  30086],\n",
       "        [     0,      0,  31753],\n",
       "        [     0,      0,  32770],\n",
       "        ...,\n",
       "        [178197,      9,  12906],\n",
       "        [178200,      6,   7714],\n",
       "        [178202,      9,  12906]]), scores=tensor([ 1.2518, -0.5360,  0.7804,  ...,  4.3877,  3.4541,  4.6173],\n",
       "       device='cuda:3'))"
      ]
     },
     "execution_count": 3,
     "metadata": {},
     "output_type": "execute_result"
    }
   ],
   "source": [
    "from pykeen import predict\n",
    "score_df = predict.predict_triples(\n",
    "    model=my_model,\n",
    "    triples=test_data,\n",
    "    triples_factory=emb_trainning,\n",
    ")\n",
    "score_df"
   ]
  },
  {
   "cell_type": "code",
   "execution_count": 4,
   "metadata": {},
   "outputs": [
    {
     "name": "stderr",
     "output_type": "stream",
     "text": [
      "Reconstructing all label-based triples. This is expensive and rarely needed.\n"
     ]
    },
    {
     "data": {
      "text/plain": [
       "array([0.7776172 , 0.36910963, 0.68576497, ..., 0.987723  , 0.9693524 ,\n",
       "       0.9902171 ], dtype=float32)"
      ]
     },
     "execution_count": 4,
     "metadata": {},
     "output_type": "execute_result"
    }
   ],
   "source": [
    "# test_data_triplet =test_data_tf.triples\n",
    "# print(test_data_triplet.shape)\n",
    "# score = my_model.predict_hrt(test_data_tf.mapped_triples).sigmoid().detach().cpu().numpy() #\n",
    "# score\n",
    "\n",
    "# test_data_triplet = score_df.result.detach().cpu().numpy()\n",
    "test_data_triplet =test_data_tf.triples\n",
    "score = score_df.scores.sigmoid().detach().cpu().numpy()\n",
    "score"
   ]
  },
  {
   "cell_type": "code",
   "execution_count": 5,
   "metadata": {},
   "outputs": [
    {
     "data": {
      "text/html": [
       "<div>\n",
       "<style scoped>\n",
       "    .dataframe tbody tr th:only-of-type {\n",
       "        vertical-align: middle;\n",
       "    }\n",
       "\n",
       "    .dataframe tbody tr th {\n",
       "        vertical-align: top;\n",
       "    }\n",
       "\n",
       "    .dataframe thead th {\n",
       "        text-align: right;\n",
       "    }\n",
       "</style>\n",
       "<table border=\"1\" class=\"dataframe\">\n",
       "  <thead>\n",
       "    <tr style=\"text-align: right;\">\n",
       "      <th></th>\n",
       "      <th>head</th>\n",
       "      <th>relation</th>\n",
       "      <th>tail</th>\n",
       "      <th>label</th>\n",
       "      <th>score</th>\n",
       "    </tr>\n",
       "  </thead>\n",
       "  <tbody>\n",
       "    <tr>\n",
       "      <th>0</th>\n",
       "      <td>Disease::DOID:0001816</td>\n",
       "      <td>Disease:Gene::associated with</td>\n",
       "      <td>Gene::A0A8C0T7K1</td>\n",
       "      <td>1</td>\n",
       "      <td>0.68576497</td>\n",
       "    </tr>\n",
       "    <tr>\n",
       "      <th>1</th>\n",
       "      <td>Disease::DOID:0001816</td>\n",
       "      <td>Disease:Gene::associated with</td>\n",
       "      <td>Gene::A0A8I3PN58</td>\n",
       "      <td>1</td>\n",
       "      <td>0.66807336</td>\n",
       "    </tr>\n",
       "    <tr>\n",
       "      <th>2</th>\n",
       "      <td>Disease::DOID:0001816</td>\n",
       "      <td>Disease:Gene::associated with</td>\n",
       "      <td>Gene::B2RU80</td>\n",
       "      <td>1</td>\n",
       "      <td>0.8270892</td>\n",
       "    </tr>\n",
       "    <tr>\n",
       "      <th>3</th>\n",
       "      <td>Disease::DOID:0001816</td>\n",
       "      <td>Disease:Gene::associated with</td>\n",
       "      <td>Gene::O15554</td>\n",
       "      <td>1</td>\n",
       "      <td>0.89099896</td>\n",
       "    </tr>\n",
       "    <tr>\n",
       "      <th>4</th>\n",
       "      <td>Disease::DOID:0001816</td>\n",
       "      <td>Disease:Gene::associated with</td>\n",
       "      <td>Gene::O35462</td>\n",
       "      <td>1</td>\n",
       "      <td>0.74652475</td>\n",
       "    </tr>\n",
       "    <tr>\n",
       "      <th>...</th>\n",
       "      <td>...</td>\n",
       "      <td>...</td>\n",
       "      <td>...</td>\n",
       "      <td>...</td>\n",
       "      <td>...</td>\n",
       "    </tr>\n",
       "    <tr>\n",
       "      <th>939819</th>\n",
       "      <td>Gene::Q9Z2Y9</td>\n",
       "      <td>Gene:Disease::role in pathogenesis</td>\n",
       "      <td>Disease::MESH:D000094627</td>\n",
       "      <td>0</td>\n",
       "      <td>0.91772854</td>\n",
       "    </tr>\n",
       "    <tr>\n",
       "      <th>939820</th>\n",
       "      <td>Gene::W0UUZ5</td>\n",
       "      <td>Gene:Disease::role in pathogenesis</td>\n",
       "      <td>Disease::DOID:7551</td>\n",
       "      <td>0</td>\n",
       "      <td>0.9532816</td>\n",
       "    </tr>\n",
       "    <tr>\n",
       "      <th>939821</th>\n",
       "      <td>Gene::W0UUZ5</td>\n",
       "      <td>Gene:Disease::role in pathogenesis</td>\n",
       "      <td>Disease::DOID:0060614</td>\n",
       "      <td>0</td>\n",
       "      <td>0.83195055</td>\n",
       "    </tr>\n",
       "    <tr>\n",
       "      <th>939822</th>\n",
       "      <td>Gene::P01215</td>\n",
       "      <td>Gene:Disease::role in pathogenesis</td>\n",
       "      <td>Disease::MESH:D064420</td>\n",
       "      <td>0</td>\n",
       "      <td>0.9948236</td>\n",
       "    </tr>\n",
       "    <tr>\n",
       "      <th>939823</th>\n",
       "      <td>Gene::W5P7Y6</td>\n",
       "      <td>Gene:Disease::role in pathogenesis</td>\n",
       "      <td>Disease::MONDO:0007322</td>\n",
       "      <td>0</td>\n",
       "      <td>0.807068</td>\n",
       "    </tr>\n",
       "  </tbody>\n",
       "</table>\n",
       "<p>939824 rows × 5 columns</p>\n",
       "</div>"
      ],
      "text/plain": [
       "                         head                            relation  \\\n",
       "0       Disease::DOID:0001816       Disease:Gene::associated with   \n",
       "1       Disease::DOID:0001816       Disease:Gene::associated with   \n",
       "2       Disease::DOID:0001816       Disease:Gene::associated with   \n",
       "3       Disease::DOID:0001816       Disease:Gene::associated with   \n",
       "4       Disease::DOID:0001816       Disease:Gene::associated with   \n",
       "...                       ...                                 ...   \n",
       "939819           Gene::Q9Z2Y9  Gene:Disease::role in pathogenesis   \n",
       "939820           Gene::W0UUZ5  Gene:Disease::role in pathogenesis   \n",
       "939821           Gene::W0UUZ5  Gene:Disease::role in pathogenesis   \n",
       "939822           Gene::P01215  Gene:Disease::role in pathogenesis   \n",
       "939823           Gene::W5P7Y6  Gene:Disease::role in pathogenesis   \n",
       "\n",
       "                            tail  label       score  \n",
       "0               Gene::A0A8C0T7K1      1  0.68576497  \n",
       "1               Gene::A0A8I3PN58      1  0.66807336  \n",
       "2                   Gene::B2RU80      1   0.8270892  \n",
       "3                   Gene::O15554      1  0.89099896  \n",
       "4                   Gene::O35462      1  0.74652475  \n",
       "...                          ...    ...         ...  \n",
       "939819  Disease::MESH:D000094627      0  0.91772854  \n",
       "939820        Disease::DOID:7551      0   0.9532816  \n",
       "939821     Disease::DOID:0060614      0  0.83195055  \n",
       "939822     Disease::MESH:D064420      0   0.9948236  \n",
       "939823    Disease::MONDO:0007322      0    0.807068  \n",
       "\n",
       "[939824 rows x 5 columns]"
      ]
     },
     "execution_count": 5,
     "metadata": {},
     "output_type": "execute_result"
    }
   ],
   "source": [
    "test_data_score = pd.DataFrame(np.concatenate([test_data_triplet, score.reshape(-1, 1)], axis=1), columns=['head', 'relation', 'tail', 'score'])\n",
    "test_data_label_score = pd.merge(test_data, test_data_score, on=['head', 'relation', 'tail'], how='inner')\n",
    "test_data_label_score"
   ]
  },
  {
   "cell_type": "code",
   "execution_count": 6,
   "metadata": {},
   "outputs": [
    {
     "name": "stdout",
     "output_type": "stream",
     "text": [
      "0.8748684525489807\n",
      "ROC AUC: 0.5068, PR AUC: 0.4884, Accuracy: 0.4925\n"
     ]
    }
   ],
   "source": [
    "y = test_data_label_score['label'].astype(float).values\n",
    "pred = test_data_label_score['score'].astype(float).values\n",
    "\n",
    "from sklearn import metrics\n",
    "def roc_auc(y, pred):\n",
    "    fpr, tpr, thresholds = metrics.roc_curve(y, pred)\n",
    "    roc_auc = metrics.auc(fpr, tpr)\n",
    "    return roc_auc\n",
    "\n",
    "def pr_auc(y, pred):\n",
    "    precision, recall, thresholds = metrics.precision_recall_curve(y, pred)\n",
    "    pr_auc = metrics.auc(recall, precision)\n",
    "    return pr_auc\n",
    "\n",
    "roc = roc_auc(y, pred)\n",
    "pr = pr_auc(y, pred)\n",
    "\n",
    "# 计算 Accuracy\n",
    "# threshold = 0.5  # 预测标签，阈值设为 0.5\n",
    "threshold = np.percentile(score, 50)  # 使用分数的中位数作为阈值\n",
    "# threshold = np.mean(score)  # 使用分数的平均值作为阈值\n",
    "print(threshold)\n",
    "preds = (pred > threshold).astype(int)\n",
    "\n",
    "acc = metrics.accuracy_score(y, preds)\n",
    "\n",
    "print(f'ROC AUC: {roc:.4f}, PR AUC: {pr:.4f}, Accuracy: {acc:.4f}')\n",
    "\n",
    "# test_data_label_score.to_csv('./tmp/test_data_label_score.csv', index=False)\n",
    "# preds"
   ]
  },
  {
   "cell_type": "code",
   "execution_count": 7,
   "metadata": {},
   "outputs": [],
   "source": [
    "test_data_label_score[['label', 'score']].to_csv('./train_results/baseline/ConvE_scores.csv', index=False, header=False)"
   ]
  },
  {
   "cell_type": "code",
   "execution_count": 11,
   "metadata": {},
   "outputs": [
    {
     "data": {
      "image/png": "[encoded data removed]",
      "text/plain": [
       "<Figure size 1200x500 with 2 Axes>"
      ]
     },
     "metadata": {},
     "output_type": "display_data"
    }
   ],
   "source": [
    "import matplotlib.pyplot as plt\n",
    "\n",
    "fpr, tpr, _ = metrics.roc_curve(y, pred)\n",
    "precision, recall, _ = metrics.precision_recall_curve(y, pred)\n",
    "\n",
    "plt.figure(figsize=(12, 5))\n",
    "plt.subplot(1, 2, 1)\n",
    "plt.plot(fpr, tpr, label=f'ROC AUC = {metrics.auc(fpr, tpr):.4f}')\n",
    "plt.xlabel('False Positive Rate')\n",
    "plt.ylabel('True Positive Rate')\n",
    "plt.title('ROC Curve')\n",
    "plt.legend()\n",
    "\n",
    "plt.subplot(1, 2, 2)\n",
    "plt.plot(recall, precision, label=f'PR AUC = {metrics.auc(recall, precision):.4f}')\n",
    "plt.xlabel('Recall')\n",
    "plt.ylabel('Precision')\n",
    "plt.title('Precision-Recall Curve')\n",
    "plt.legend()\n",
    "\n",
    "plt.show()"
   ]
  },
  {
   "cell_type": "code",
   "execution_count": 12,
   "metadata": {},
   "outputs": [
    {
     "data": {
      "image/png": "[encoded data removed]",
      "text/plain": [
       "<Figure size 640x480 with 1 Axes>"
      ]
     },
     "metadata": {},
     "output_type": "display_data"
    }
   ],
   "source": [
    "plt.hist(pred[y == 1], bins=50, alpha=0.5, label='Positive')\n",
    "plt.hist(pred[y == 0], bins=50, alpha=0.5, label='Negative')\n",
    "plt.legend()\n",
    "plt.title('Score Distribution by Label')\n",
    "plt.xlabel('Score')\n",
    "plt.ylabel('Frequency')\n",
    "plt.show()"
   ]
  }
 ],
 "metadata": {
  "kernelspec": {
   "display_name": "pykeen",
   "language": "python",
   "name": "python3"
  },
  "language_info": {
   "codemirror_mode": {
    "name": "ipython",
    "version": 3
   },
   "file_extension": ".py",
   "mimetype": "text/x-python",
   "name": "python",
   "nbconvert_exporter": "python",
   "pygments_lexer": "ipython3",
   "version": "3.10.15"
  }
 },
 "nbformat": 4,
 "nbformat_minor": 2
}
